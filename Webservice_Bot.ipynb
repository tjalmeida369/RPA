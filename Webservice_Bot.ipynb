{
 "cells": [
  {
   "cell_type": "code",
   "execution_count": 1,
   "id": "e590452e",
   "metadata": {},
   "outputs": [
    {
     "ename": "SessionNotCreatedException",
     "evalue": "Message: session not created: This version of OperaDriver only supports Opera version 98\nCurrent browser version is 101.0.4951.67 with binary path C:\\Users\\thiago.almeida\\AppData\\Local\\Programs\\Opera\\87.0.4390.36\\opera.exe\n  (Driver info: operadriver=98.0.4758.82 (199fc4f2ce08413e0126f4e98393232412a76ab6-refs/branch-heads/4758@{#974}),platform=Windows NT 10.0.19044 x86_64)\n",
     "output_type": "error",
     "traceback": [
      "\u001b[1;31m---------------------------------------------------------------------------\u001b[0m",
      "\u001b[1;31mSessionNotCreatedException\u001b[0m                Traceback (most recent call last)",
      "\u001b[1;32mC:\\Users\\THIAGO~1.ALM\\AppData\\Local\\Temp/ipykernel_13820/1651274738.py\u001b[0m in \u001b[0;36m<module>\u001b[1;34m\u001b[0m\n\u001b[0;32m      4\u001b[0m \u001b[1;32mimport\u001b[0m \u001b[0mtime\u001b[0m\u001b[1;33m\u001b[0m\u001b[1;33m\u001b[0m\u001b[0m\n\u001b[0;32m      5\u001b[0m \u001b[1;31m# Criar navegador\u001b[0m\u001b[1;33m\u001b[0m\u001b[1;33m\u001b[0m\u001b[0m\n\u001b[1;32m----> 6\u001b[1;33m \u001b[0mnavegador\u001b[0m \u001b[1;33m=\u001b[0m \u001b[0mwebdriver\u001b[0m\u001b[1;33m.\u001b[0m\u001b[0mOpera\u001b[0m\u001b[1;33m(\u001b[0m\u001b[1;33m)\u001b[0m\u001b[1;33m\u001b[0m\u001b[1;33m\u001b[0m\u001b[0m\n\u001b[0m\u001b[0;32m      7\u001b[0m \u001b[0mUsuario\u001b[0m \u001b[1;33m=\u001b[0m \u001b[1;34m\"thiago.almeida\"\u001b[0m\u001b[1;33m\u001b[0m\u001b[1;33m\u001b[0m\u001b[0m\n\u001b[0;32m      8\u001b[0m \u001b[0mSenha\u001b[0m \u001b[1;33m=\u001b[0m \u001b[1;34m\"Apolo!@#!2024\"\u001b[0m\u001b[1;33m\u001b[0m\u001b[1;33m\u001b[0m\u001b[0m\n",
      "\u001b[1;32mc:\\Users\\thiago.almeida\\Anaconda3\\lib\\site-packages\\selenium\\webdriver\\opera\\webdriver.py\u001b[0m in \u001b[0;36m__init__\u001b[1;34m(self, desired_capabilities, executable_path, port, service_log_path, service_args, options)\u001b[0m\n\u001b[0;32m     77\u001b[0m                  \u001b[0mservice_args\u001b[0m\u001b[1;33m=\u001b[0m\u001b[1;32mNone\u001b[0m\u001b[1;33m,\u001b[0m\u001b[1;33m\u001b[0m\u001b[1;33m\u001b[0m\u001b[0m\n\u001b[0;32m     78\u001b[0m                  options=None):\n\u001b[1;32m---> 79\u001b[1;33m         OperaDriver.__init__(self, executable_path=executable_path,\n\u001b[0m\u001b[0;32m     80\u001b[0m                              \u001b[0mport\u001b[0m\u001b[1;33m=\u001b[0m\u001b[0mport\u001b[0m\u001b[1;33m,\u001b[0m \u001b[0moptions\u001b[0m\u001b[1;33m=\u001b[0m\u001b[0moptions\u001b[0m\u001b[1;33m,\u001b[0m\u001b[1;33m\u001b[0m\u001b[1;33m\u001b[0m\u001b[0m\n\u001b[0;32m     81\u001b[0m                              \u001b[0mservice_args\u001b[0m\u001b[1;33m=\u001b[0m\u001b[0mservice_args\u001b[0m\u001b[1;33m,\u001b[0m\u001b[1;33m\u001b[0m\u001b[1;33m\u001b[0m\u001b[0m\n",
      "\u001b[1;32mc:\\Users\\thiago.almeida\\Anaconda3\\lib\\site-packages\\selenium\\webdriver\\opera\\webdriver.py\u001b[0m in \u001b[0;36m__init__\u001b[1;34m(self, executable_path, port, options, service_args, desired_capabilities, service_log_path, opera_options, keep_alive)\u001b[0m\n\u001b[0;32m     53\u001b[0m         executable_path = (executable_path if executable_path is not None\n\u001b[0;32m     54\u001b[0m                            else \"operadriver\")\n\u001b[1;32m---> 55\u001b[1;33m         ChromiumDriver.__init__(self,\n\u001b[0m\u001b[0;32m     56\u001b[0m                                 \u001b[0mexecutable_path\u001b[0m\u001b[1;33m=\u001b[0m\u001b[0mexecutable_path\u001b[0m\u001b[1;33m,\u001b[0m\u001b[1;33m\u001b[0m\u001b[1;33m\u001b[0m\u001b[0m\n\u001b[0;32m     57\u001b[0m                                 \u001b[0mport\u001b[0m\u001b[1;33m=\u001b[0m\u001b[0mport\u001b[0m\u001b[1;33m,\u001b[0m\u001b[1;33m\u001b[0m\u001b[1;33m\u001b[0m\u001b[0m\n",
      "\u001b[1;32mc:\\Users\\thiago.almeida\\Anaconda3\\lib\\site-packages\\selenium\\webdriver\\chrome\\webdriver.py\u001b[0m in \u001b[0;36m__init__\u001b[1;34m(self, executable_path, port, options, service_args, desired_capabilities, service_log_path, chrome_options, keep_alive)\u001b[0m\n\u001b[0;32m     74\u001b[0m \u001b[1;33m\u001b[0m\u001b[0m\n\u001b[0;32m     75\u001b[0m         \u001b[1;32mtry\u001b[0m\u001b[1;33m:\u001b[0m\u001b[1;33m\u001b[0m\u001b[1;33m\u001b[0m\u001b[0m\n\u001b[1;32m---> 76\u001b[1;33m             RemoteWebDriver.__init__(\n\u001b[0m\u001b[0;32m     77\u001b[0m                 \u001b[0mself\u001b[0m\u001b[1;33m,\u001b[0m\u001b[1;33m\u001b[0m\u001b[1;33m\u001b[0m\u001b[0m\n\u001b[0;32m     78\u001b[0m                 command_executor=ChromeRemoteConnection(\n",
      "\u001b[1;32mc:\\Users\\thiago.almeida\\Anaconda3\\lib\\site-packages\\selenium\\webdriver\\remote\\webdriver.py\u001b[0m in \u001b[0;36m__init__\u001b[1;34m(self, command_executor, desired_capabilities, browser_profile, proxy, keep_alive, file_detector, options)\u001b[0m\n\u001b[0;32m    155\u001b[0m             warnings.warn(\"Please use FirefoxOptions to set browser profile\",\n\u001b[0;32m    156\u001b[0m                           DeprecationWarning, stacklevel=2)\n\u001b[1;32m--> 157\u001b[1;33m         \u001b[0mself\u001b[0m\u001b[1;33m.\u001b[0m\u001b[0mstart_session\u001b[0m\u001b[1;33m(\u001b[0m\u001b[0mcapabilities\u001b[0m\u001b[1;33m,\u001b[0m \u001b[0mbrowser_profile\u001b[0m\u001b[1;33m)\u001b[0m\u001b[1;33m\u001b[0m\u001b[1;33m\u001b[0m\u001b[0m\n\u001b[0m\u001b[0;32m    158\u001b[0m         \u001b[0mself\u001b[0m\u001b[1;33m.\u001b[0m\u001b[0m_switch_to\u001b[0m \u001b[1;33m=\u001b[0m \u001b[0mSwitchTo\u001b[0m\u001b[1;33m(\u001b[0m\u001b[0mself\u001b[0m\u001b[1;33m)\u001b[0m\u001b[1;33m\u001b[0m\u001b[1;33m\u001b[0m\u001b[0m\n\u001b[0;32m    159\u001b[0m         \u001b[0mself\u001b[0m\u001b[1;33m.\u001b[0m\u001b[0m_mobile\u001b[0m \u001b[1;33m=\u001b[0m \u001b[0mMobile\u001b[0m\u001b[1;33m(\u001b[0m\u001b[0mself\u001b[0m\u001b[1;33m)\u001b[0m\u001b[1;33m\u001b[0m\u001b[1;33m\u001b[0m\u001b[0m\n",
      "\u001b[1;32mc:\\Users\\thiago.almeida\\Anaconda3\\lib\\site-packages\\selenium\\webdriver\\remote\\webdriver.py\u001b[0m in \u001b[0;36mstart_session\u001b[1;34m(self, capabilities, browser_profile)\u001b[0m\n\u001b[0;32m    250\u001b[0m         parameters = {\"capabilities\": w3c_caps,\n\u001b[0;32m    251\u001b[0m                       \"desiredCapabilities\": capabilities}\n\u001b[1;32m--> 252\u001b[1;33m         \u001b[0mresponse\u001b[0m \u001b[1;33m=\u001b[0m \u001b[0mself\u001b[0m\u001b[1;33m.\u001b[0m\u001b[0mexecute\u001b[0m\u001b[1;33m(\u001b[0m\u001b[0mCommand\u001b[0m\u001b[1;33m.\u001b[0m\u001b[0mNEW_SESSION\u001b[0m\u001b[1;33m,\u001b[0m \u001b[0mparameters\u001b[0m\u001b[1;33m)\u001b[0m\u001b[1;33m\u001b[0m\u001b[1;33m\u001b[0m\u001b[0m\n\u001b[0m\u001b[0;32m    253\u001b[0m         \u001b[1;32mif\u001b[0m \u001b[1;34m'sessionId'\u001b[0m \u001b[1;32mnot\u001b[0m \u001b[1;32min\u001b[0m \u001b[0mresponse\u001b[0m\u001b[1;33m:\u001b[0m\u001b[1;33m\u001b[0m\u001b[1;33m\u001b[0m\u001b[0m\n\u001b[0;32m    254\u001b[0m             \u001b[0mresponse\u001b[0m \u001b[1;33m=\u001b[0m \u001b[0mresponse\u001b[0m\u001b[1;33m[\u001b[0m\u001b[1;34m'value'\u001b[0m\u001b[1;33m]\u001b[0m\u001b[1;33m\u001b[0m\u001b[1;33m\u001b[0m\u001b[0m\n",
      "\u001b[1;32mc:\\Users\\thiago.almeida\\Anaconda3\\lib\\site-packages\\selenium\\webdriver\\remote\\webdriver.py\u001b[0m in \u001b[0;36mexecute\u001b[1;34m(self, driver_command, params)\u001b[0m\n\u001b[0;32m    319\u001b[0m         \u001b[0mresponse\u001b[0m \u001b[1;33m=\u001b[0m \u001b[0mself\u001b[0m\u001b[1;33m.\u001b[0m\u001b[0mcommand_executor\u001b[0m\u001b[1;33m.\u001b[0m\u001b[0mexecute\u001b[0m\u001b[1;33m(\u001b[0m\u001b[0mdriver_command\u001b[0m\u001b[1;33m,\u001b[0m \u001b[0mparams\u001b[0m\u001b[1;33m)\u001b[0m\u001b[1;33m\u001b[0m\u001b[1;33m\u001b[0m\u001b[0m\n\u001b[0;32m    320\u001b[0m         \u001b[1;32mif\u001b[0m \u001b[0mresponse\u001b[0m\u001b[1;33m:\u001b[0m\u001b[1;33m\u001b[0m\u001b[1;33m\u001b[0m\u001b[0m\n\u001b[1;32m--> 321\u001b[1;33m             \u001b[0mself\u001b[0m\u001b[1;33m.\u001b[0m\u001b[0merror_handler\u001b[0m\u001b[1;33m.\u001b[0m\u001b[0mcheck_response\u001b[0m\u001b[1;33m(\u001b[0m\u001b[0mresponse\u001b[0m\u001b[1;33m)\u001b[0m\u001b[1;33m\u001b[0m\u001b[1;33m\u001b[0m\u001b[0m\n\u001b[0m\u001b[0;32m    322\u001b[0m             response['value'] = self._unwrap_value(\n\u001b[0;32m    323\u001b[0m                 response.get('value', None))\n",
      "\u001b[1;32mc:\\Users\\thiago.almeida\\Anaconda3\\lib\\site-packages\\selenium\\webdriver\\remote\\errorhandler.py\u001b[0m in \u001b[0;36mcheck_response\u001b[1;34m(self, response)\u001b[0m\n\u001b[0;32m    240\u001b[0m                 \u001b[0malert_text\u001b[0m \u001b[1;33m=\u001b[0m \u001b[0mvalue\u001b[0m\u001b[1;33m[\u001b[0m\u001b[1;34m'alert'\u001b[0m\u001b[1;33m]\u001b[0m\u001b[1;33m.\u001b[0m\u001b[0mget\u001b[0m\u001b[1;33m(\u001b[0m\u001b[1;34m'text'\u001b[0m\u001b[1;33m)\u001b[0m\u001b[1;33m\u001b[0m\u001b[1;33m\u001b[0m\u001b[0m\n\u001b[0;32m    241\u001b[0m             \u001b[1;32mraise\u001b[0m \u001b[0mexception_class\u001b[0m\u001b[1;33m(\u001b[0m\u001b[0mmessage\u001b[0m\u001b[1;33m,\u001b[0m \u001b[0mscreen\u001b[0m\u001b[1;33m,\u001b[0m \u001b[0mstacktrace\u001b[0m\u001b[1;33m,\u001b[0m \u001b[0malert_text\u001b[0m\u001b[1;33m)\u001b[0m\u001b[1;33m\u001b[0m\u001b[1;33m\u001b[0m\u001b[0m\n\u001b[1;32m--> 242\u001b[1;33m         \u001b[1;32mraise\u001b[0m \u001b[0mexception_class\u001b[0m\u001b[1;33m(\u001b[0m\u001b[0mmessage\u001b[0m\u001b[1;33m,\u001b[0m \u001b[0mscreen\u001b[0m\u001b[1;33m,\u001b[0m \u001b[0mstacktrace\u001b[0m\u001b[1;33m)\u001b[0m\u001b[1;33m\u001b[0m\u001b[1;33m\u001b[0m\u001b[0m\n\u001b[0m\u001b[0;32m    243\u001b[0m \u001b[1;33m\u001b[0m\u001b[0m\n\u001b[0;32m    244\u001b[0m     \u001b[1;32mdef\u001b[0m \u001b[0m_value_or_default\u001b[0m\u001b[1;33m(\u001b[0m\u001b[0mself\u001b[0m\u001b[1;33m,\u001b[0m \u001b[0mobj\u001b[0m\u001b[1;33m,\u001b[0m \u001b[0mkey\u001b[0m\u001b[1;33m,\u001b[0m \u001b[0mdefault\u001b[0m\u001b[1;33m)\u001b[0m\u001b[1;33m:\u001b[0m\u001b[1;33m\u001b[0m\u001b[1;33m\u001b[0m\u001b[0m\n",
      "\u001b[1;31mSessionNotCreatedException\u001b[0m: Message: session not created: This version of OperaDriver only supports Opera version 98\nCurrent browser version is 101.0.4951.67 with binary path C:\\Users\\thiago.almeida\\AppData\\Local\\Programs\\Opera\\87.0.4390.36\\opera.exe\n  (Driver info: operadriver=98.0.4758.82 (199fc4f2ce08413e0126f4e98393232412a76ab6-refs/branch-heads/4758@{#974}),platform=Windows NT 10.0.19044 x86_64)\n"
     ]
    }
   ],
   "source": [
    "from selenium import webdriver\n",
    "from selenium.webdriver.common.by import By\n",
    "from selenium.webdriver.common.keys import Keys\n",
    "import time\n",
    "# Criar navegador\n",
    "navegador = webdriver.Opera()\n",
    "Usuario = \"thiago.almeida\"\n",
    "Senha = \"Apolo!@#!2024\"\n",
    "# Acessar site do CS\n",
    "link = 'https://cs.mobly.com.br/login'\n",
    "navegador.get(url=link)\n",
    "navegador.maximize_window()\n",
    "# Inserir login e  senha do cs\n",
    "username = navegador.find_element_by_css_selector(\"#email\")\n",
    "time.sleep(1)\n",
    "password = navegador.find_element_by_css_selector(\"#password\")\n",
    "username.send_keys(Usuario)\n",
    "password.send_keys(Senha)\n",
    "botao_entrar = navegador.find_element(By.XPATH,'/html/body/div/div[2]/div/div/div[1]/div[2]/form/button').click()\n",
    "time.sleep(5)\n",
    "navegador.get('https://cs.mobly.com.br/task?ticketTaskId=625d53faa2a37d00096dd2f3&taskId=60009ae1345a0c00089559a0&ticketId=6245b26d3b20fd0009677ee3')\n",
    "time.sleep(3)\n",
    "navegador.find_element_by_name(\"requestUrl\").click()\n",
    "navegador.find_element_by_name(\"requestUrl\").clear()\n",
    "navegador.find_element_by_name(\"requestUrl\").send_keys(\"https://origin-api.mobly.com.br/cs/ping\")\n",
    "navegador.find_element_by_name(\"requestHeaders\").click()\n",
    "navegador.find_element_by_xpath(\"//input[@type='search']\").click()\n",
    "navegador.find_element_by_xpath('/html/body/div/div[5]/div/div/div[2]/div/div[1]/div[2]/div/div[1]/div/div/div[2]/div/div/div/div[1]/input').click()\n",
    "navegador.find_element_by_name(\"requestHeaders\").send_keys(\"{\\\"x-api-key\\\":\\\"VaSpruNpCK9znXZfhnEa944KwVqoXNPL6HC6YG8T\\\",\\\"content-type\\\":\\\"application/json\\\"}\")\n",
    "navegador.find_element_by_name(\"requestData\").click()\n",
    "navegador.find_element_by_name(\"requestData\").clear()\n",
    "navegador.find_element_by_name(\"requestData\").send_keys(\"{\\\"ticket\\\":\\\"{{ticket}}\\\"}\")\n",
    "navegador.find_element_by_xpath(u\"(.//*[normalize-space(text()) and normalize-space(.)='* Campos obrigatórios para finalização da task'])[1]/following::span[1]\").click()\n",
    "time.sleep(1)\n",
    "navegador.find_element_by_xpath(\"(.//*[normalize-space(text()) and normalize-space(.)='Response Data'])[1]/following::*[name()='svg'][1]\").click()\n",
    "time.sleep(1)\n",
    "navegador.find_element_by_xpath(u\"(.//*[normalize-space(text()) and normalize-space(.)='* Campos obrigatórios para finalização da task'])[1]/following::span[1]\").click()\n",
    "time.sleep(1)\n",
    "navegador.find_element_by_xpath(\"(.//*[normalize-space(text()) and normalize-space(.)='Sim | Seguir com Estorno'])[1]/following::div[1]\").click()\n",
    "time.sleep(1)\n",
    "navegador.find_element_by_xpath(\"(.//*[normalize-space(text()) and normalize-space(.)='Response Data'])[1]/following::*[name()='svg'][1]\").click()\n",
    "time.sleep(1)\n",
    "navegador.find_element(By.XPATH,'/html/body/div/div[5]/div/div/div[2]/div/div/div[2]/div/div[4]/button[1]/div/div').click()\n",
    "time.sleep(1)\n",
    "navegador.find_element(By.XPATH,'/html/body/div/div[5]/div/div/div[2]/div/div/div[2]/div/div[1]/div/div/span/button/div/div').click()\n",
    "time.sleep(4)\n",
    "\n",
    "navegador.refresh()"
   ]
  },
  {
   "cell_type": "code",
   "execution_count": null,
   "id": "dcb0b392",
   "metadata": {},
   "outputs": [],
   "source": []
  },
  {
   "cell_type": "code",
   "execution_count": null,
   "id": "113fd943",
   "metadata": {},
   "outputs": [],
   "source": []
  },
  {
   "cell_type": "code",
   "execution_count": null,
   "id": "f1d20284",
   "metadata": {},
   "outputs": [],
   "source": []
  }
 ],
 "metadata": {
  "interpreter": {
   "hash": "deda854813685895d237325305ad70bc5691a6ad04a6e98496f2b4c5b1a2950e"
  },
  "kernelspec": {
   "display_name": "Python 3.9.7 ('base')",
   "language": "python",
   "name": "python3"
  },
  "language_info": {
   "codemirror_mode": {
    "name": "ipython",
    "version": 3
   },
   "file_extension": ".py",
   "mimetype": "text/x-python",
   "name": "python",
   "nbconvert_exporter": "python",
   "pygments_lexer": "ipython3",
   "version": "3.9.7"
  }
 },
 "nbformat": 4,
 "nbformat_minor": 5
}
